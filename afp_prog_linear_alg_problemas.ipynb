{
  "nbformat": 4,
  "nbformat_minor": 0,
  "metadata": {
    "colab": {
      "name": "afp_prog_linear_alg_problemas.ipynb",
      "provenance": [],
      "collapsed_sections": [],
      "authorship_tag": "ABX9TyMuDUZy5HpJKs1LFSyvf79G",
      "include_colab_link": true
    },
    "kernelspec": {
      "name": "python3",
      "display_name": "Python 3"
    }
  },
  "cells": [
    {
      "cell_type": "markdown",
      "metadata": {
        "id": "view-in-github",
        "colab_type": "text"
      },
      "source": [
        "<a href=\"https://colab.research.google.com/github/aaronds09/test_cvia/blob/master/afp_prog_linear_alg_problemas.ipynb\" target=\"_parent\"><img src=\"https://colab.research.google.com/assets/colab-badge.svg\" alt=\"Open In Colab\"/></a>"
      ]
    },
    {
      "cell_type": "code",
      "metadata": {
        "id": "QxaZUGwafXSi",
        "colab_type": "code",
        "colab": {
          "base_uri": "https://localhost:8080/",
          "height": 85
        },
        "outputId": "214fce3a-e02f-4507-a5dd-4489c6fa3683"
      },
      "source": [
        "import numpy as np\n",
        "\n",
        "#Functions used\n",
        "C=np.array([[6, -4, 1],\n",
        "            [-4, 6,-4],\n",
        "            [1, -4, 6]], dtype=np.float)\n",
        "D=np.array([[-14, 36, 6],[22, -18, 7]], dtype=np.float)\n",
        "E=np.array([-14, 36, 6], dtype=np.float)\n",
        "\n",
        "#Computes the determinat of a matrix\n",
        "def det(a):\n",
        "  n=a.shape[0]\n",
        "  ao=a.copy()\n",
        "  for k in range(0,n-1):\n",
        "    for i in range(k+1,n):\n",
        "      if ao[i,k]!=0.0:\n",
        "        lam=ao[i,k]/ao[k,k]\n",
        "        ao[i,k:n]=ao[i,k:n]-lam*ao[k,k:n]\n",
        "          \n",
        "  bo=np.prod(np.diagonal(ao))\n",
        "  return(bo.astype(np.float16))\n",
        "  \n",
        "#Evaluates the condition by determinant\n",
        "def eval_condt(A):\n",
        "  if det(A)==0:\n",
        "    return(print('Det=0.0, Singular'))\n",
        "  if det(A)<0.5:\n",
        "    d=str(det(A))\n",
        "    return(print(f'Det={d}, Ill conditioned'))\n",
        "  if det(A)>0:\n",
        "    d=str(det(A))\n",
        "    return(print(f'Det={d}, Well conditioned'))\n",
        "\n",
        "#LU-Doolittle functions:\n",
        "def LU_Doo_simp(a,b):\n",
        "  #Decompose the matrix [L\\U]\n",
        "  n=a.shape[0]\n",
        "  ao=a.copy()\n",
        "  bo=b.copy()\n",
        "  for k in range(0,n-1):\n",
        "    for i in range(k+1,n):\n",
        "      if ao[i,k]!=0.0:\n",
        "        lam=ao[i,k]/ao[k,k]\n",
        "        ao[i,k:n]=ao[i,k:n]-lam*ao[k,k:n]\n",
        "        ao[i,k]=lam\n",
        "  #Forward replace\n",
        "  m=len(bo)\n",
        "  for k in range(1,m):\n",
        "    bo[k] = bo[k] - np.dot(ao[k,0:k],bo[0:k])\n",
        "  bo[n-1] = bo[m-1]/ao[m-1,m-1]\n",
        "  for k in range(m-2,-1,-1):\n",
        "    bo[k] = (bo[k] - np.dot(ao[k,k+1:n],bo[k+1:n]))/ao[k,k]\n",
        "\n",
        "  return(bo.astype(np.float16)) \n",
        "\n",
        "def LU_Doo_mul(a,b):\n",
        "  #Decompose the matrix [L\\U]\n",
        "  n=a.shape[0]\n",
        "  ao=a.copy()\n",
        "  bo=b.copy()\n",
        "  for k in range(0,n-1):\n",
        "    for i in range(k+1,n):\n",
        "      if ao[i,k]!=0.0:\n",
        "        lam=ao[i,k]/ao[k,k]\n",
        "        ao[i,k:n]=ao[i,k:n]-lam*ao[k,k:n]\n",
        "        ao[i,k]=lam\n",
        "\n",
        "  #Forward replace\n",
        "  s=bo.shape[0]\n",
        "  m=bo.shape[1]\n",
        "  for s in range(0,s):\n",
        "    for k in range(1,m):\n",
        "      bo[s,k] = bo[s,k] - np.dot(ao[k,0:k],bo[s,0:k])\n",
        "    bo[s,n-1] = bo[s,m-1]/ao[m-1,m-1]\n",
        "    for k in range(m-2,-1,-1):\n",
        "      bo[s,k] = (bo[s,k] - np.dot(ao[k,k+1:n],bo[s,k+1:n]))/ao[k,k]\n",
        "\n",
        "  return(bo.astype(np.float16)) \n",
        "\n",
        "#Gauss for multiple systems\n",
        "def gauss_mul(a,b):\n",
        "  n=a.shape[0]\n",
        "  m=b.shape[0]\n",
        "  ao=a.copy()\n",
        "  bo=b.copy()\n",
        "  for j in range(0,m):\n",
        "    for k in range(0,n-1):\n",
        "      for i in range(k+1,n):\n",
        "        if ao[i,k]!=0.0:\n",
        "          lam=ao[i,k]/ao[k,k]\n",
        "          ao[i,k:n]=ao[i,k:n]-lam*ao[k,k:n]\n",
        "          bo[0:m,i]=bo[0:m,i]-lam*bo[0:m,k]\n",
        "          #print(a)\n",
        "    for l in range(n-1,-1,-1):\n",
        "      bo[j,l] = (bo[j,l] - np.dot(ao[l,l+1:n],bo[j,l+1:n]))/ao[l,l]\n",
        "\n",
        "  return(bo.astype(np.float16))\n",
        "\n",
        "#Gauss for singular system\n",
        "def gauss_sim(a,b):\n",
        "  n=a.shape[0]\n",
        "  ao=a.copy()\n",
        "  bo=b.copy()\n",
        "  for k in range(0,n-1):\n",
        "    for i in range(k+1,n):\n",
        "      if ao[i,k]!=0.0:\n",
        "        lam=ao[i,k]/ao[k,k]\n",
        "        ao[i,k:n]=ao[i,k:n]-lam*ao[k,k:n]\n",
        "        bo[i]=bo[i]-lam*bo[k]\n",
        "          \n",
        "  for l in range(n-1,-1,-1):\n",
        "    bo[l] = (bo[l] - np.dot(ao[l,l+1:n],bo[l+1:n]))/ao[l,l]\n",
        "\n",
        "  return(bo.astype(np.float16))\n",
        "\n",
        "#Examples\n",
        "print(gauss_mul(C,D))\n",
        "print(gauss_sim(C,E))\n",
        "print(det(C))\n"
      ],
      "execution_count": 1,
      "outputs": [
        {
          "output_type": "stream",
          "text": [
            "[[10. 22. 14.]\n",
            " [ 3. -1. -0.]]\n",
            "[10. 22. 14.]\n",
            "50.0\n"
          ],
          "name": "stdout"
        }
      ]
    },
    {
      "cell_type": "code",
      "metadata": {
        "id": "U0OmLwv06KEz",
        "colab_type": "code",
        "colab": {
          "base_uri": "https://localhost:8080/",
          "height": 85
        },
        "outputId": "6f6eee18-abe7-4754-abb2-c134d9d0eb45"
      },
      "source": [
        "#Problema 1:\n",
        "A=np.array([[1, 2, 3],\n",
        "            [2, 3, 4],\n",
        "            [3, 4, 5]], dtype=np.float)\n",
        "B=np.array([[2.11 , -0.80, 1.72],\n",
        "            [-1.84,  3.03, 1.29],\n",
        "            [-1.57,  5.25, 4.3]], dtype=np.float)\n",
        "C=np.array([[2, -1, 0],\n",
        "            [-1, 2,-1],\n",
        "            [0, -1, 2]], dtype=np.float)\n",
        "D=np.array([[4,   3, -1],\n",
        "            [7,  -2,  3],\n",
        "            [5, -18, 13]], dtype=np.float)\n",
        "eval_condt(A)\n",
        "eval_condt(B)\n",
        "eval_condt(C)\n",
        "eval_condt(D)\n",
        "\n",
        "\n"
      ],
      "execution_count": 2,
      "outputs": [
        {
          "output_type": "stream",
          "text": [
            "Det=0.0, Singular\n",
            "Det=0.05887, Ill conditioned\n",
            "Det=4.0, Well conditioned\n",
            "Det=0.0, Singular\n"
          ],
          "name": "stdout"
        }
      ]
    },
    {
      "cell_type": "code",
      "metadata": {
        "id": "aXSQj43q1VYG",
        "colab_type": "code",
        "colab": {
          "base_uri": "https://localhost:8080/",
          "height": 204
        },
        "outputId": "bec05a7b-fc5a-4600-d30b-63c318e50e7b"
      },
      "source": [
        "#Problema 2:\n",
        "#a)\n",
        "L=np.array([[1, 0, 0],\n",
        "            [1, 1, 0],\n",
        "            [1, 5/3, 1]], dtype=np.float)\n",
        "U=np.array([[1, 2, 4],\n",
        "            [0, 3, 21],\n",
        "            [0, 0, 0]], dtype=np.float)\n",
        "\n",
        "A=np.matmul(L,U)\n",
        "d=det(A)\n",
        "print('Resultados de el inciso a): ')\n",
        "print(A.astype(np.float16))\n",
        "print(d)\n",
        "\n",
        "#b)\n",
        "L=np.array([[2, 0, 0],\n",
        "            [-1, 1, 0],\n",
        "            [1, -3, 1]], dtype=np.float)\n",
        "U=np.array([[-2, -1,  1],\n",
        "            [ 0,  1, -3],\n",
        "            [ 0,  0,  1]], dtype=np.float)\n",
        "A=np.matmul(L,U)\n",
        "d=det(A)\n",
        "print('\\nResultados de el inciso b): ')\n",
        "print(A.astype(np.float16))\n",
        "print(d)\n",
        "B=np.array([[6, 3, 7],\n",
        "            [-4,2,-5]],dtype=np.float)\n",
        "\n",
        "\n"
      ],
      "execution_count": 10,
      "outputs": [
        {
          "output_type": "stream",
          "text": [
            "Resultados de el inciso a): \n",
            "[[ 1.  2.  4.]\n",
            " [ 1.  5. 25.]\n",
            " [ 1.  7. 39.]]\n",
            "0.0\n",
            "\n",
            "Resultados de el inciso b): \n",
            "[[-4. -2.  2.]\n",
            " [ 2.  2. -4.]\n",
            " [-2. -4. 11.]]\n",
            "-4.0\n"
          ],
          "name": "stdout"
        }
      ]
    },
    {
      "cell_type": "code",
      "metadata": {
        "id": "2D30vEHbLGjE",
        "colab_type": "code",
        "colab": {
          "base_uri": "https://localhost:8080/",
          "height": 34
        },
        "outputId": "23d21daf-90c5-4240-8a70-71625ab28131"
      },
      "source": [
        "#Problema 3:\n",
        "L=np.array([[1, 0, 0],\n",
        "            [3/2, 1, 0],\n",
        "            [1/2, 11/13, 1]], dtype=np.float)\n",
        "U=np.array([[2, -3, -1],\n",
        "            [0, 13/2, -7/2],\n",
        "            [0, 0, 32/13]], dtype=np.float)\n",
        "b=np.array([1, -1, 2])\n",
        "\n",
        "A=np.matmul(L,U)\n",
        "Xo=LU_Doo_simp(A,b)\n",
        "print(Xo)"
      ],
      "execution_count": 14,
      "outputs": [
        {
          "output_type": "stream",
          "text": [
            "[1. 0. 1.]\n"
          ],
          "name": "stdout"
        }
      ]
    },
    {
      "cell_type": "code",
      "metadata": {
        "id": "Q4SI-OMsioOT",
        "colab_type": "code",
        "colab": {
          "base_uri": "https://localhost:8080/",
          "height": 85
        },
        "outputId": "251b8d13-6ee7-423e-c2b4-98d060af228a"
      },
      "source": [
        "#Problema 4:\n",
        "A=np.array([[2,-3,-1],[3,2,-5],[2,4,-1]],dtype=np.float)\n",
        "b=np.array([3, -9, 5], dtype=np.float)\n",
        "print(gauss_sim(A,b))\n",
        "\n",
        "#Problema 5:\n",
        "A=np.array([[2,0,-1,0],[0,1,2,0],[-1,2,0, 1],[0,0,1,-2]],dtype=np.float)\n",
        "B=np.array([[1,0,0,0],[0,0,1,0]], dtype=np.float)\n",
        "print(gauss_mul(A,B))\n",
        "\n",
        "#Problema 6:\n",
        "A=np.array([[1,2,0,-2,0],[0,1,-1,1,-1],[0,1,0,2,-1],[0,0,2,1,2],[0,0,0,-1,1]],dtype=np.float)\n",
        "b=np.array([-4,-1,1,1,-2], dtype=np.float)\n",
        "Xo=gauss_sim(A,b)\n",
        "X=np.array([Xo[3],Xo[2],Xo[0],Xo[4],Xo[1]])\n",
        "print(X)"
      ],
      "execution_count": null,
      "outputs": [
        {
          "output_type": "stream",
          "text": [
            "[4.12   0.2856 4.387 ]\n",
            "[[ 0.4375  0.25   -0.125  -0.0625]\n",
            " [-0.125   0.5    -0.25   -0.125 ]]\n",
            "[ 1.  1.  2. -1. -2.]\n"
          ],
          "name": "stdout"
        }
      ]
    }
  ]
}